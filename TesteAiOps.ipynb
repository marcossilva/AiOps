{
  "nbformat": 4,
  "nbformat_minor": 0,
  "metadata": {
    "kernelspec": {
      "display_name": "Python 3",
      "language": "python",
      "name": "python3"
    },
    "language_info": {
      "codemirror_mode": {
        "name": "ipython",
        "version": 3
      },
      "file_extension": ".py",
      "mimetype": "text/x-python",
      "name": "python",
      "nbconvert_exporter": "python",
      "pygments_lexer": "ipython3",
      "version": "3.7.6"
    },
    "colab": {
      "name": "TesteAiOps.ipynb",
      "provenance": []
    }
  },
  "cells": [
    {
      "cell_type": "markdown",
      "metadata": {
        "id": "nf2eKoomfxJg",
        "colab_type": "text"
      },
      "source": [
        "#Teste AiOps\n",
        "\n",
        "Nós somos da equipe de AiOps na Globo e queremos te conhecer um pouco melhor. Responda as perguntas abaixo em um Jupyter Notebook (.ipynb) e nos envie sua resposta através de algum link **privado** ou arquivo, pode ser em um github ou Google Colab, como preferir. \n",
        "Boa sorte!"
      ]
    },
    {
      "cell_type": "markdown",
      "metadata": {
        "id": "qP6ajsa0fw3y",
        "colab_type": "text"
      },
      "source": [
        "\n",
        "\n",
        "```\n",
        "1) “AIOps” é um termo criado em 2016 pelo Gartner para nomear a aplicação de recursos de IA na operação de TI, ou do acrônimo inglês “Artificial Intelligence for IT Operations”. \n",
        "\n",
        "AIOps consiste em aplicar, de alguma forma, técnicas de ML para resolver problemas de operações de TI. O conceito combina recursos de Big Data de ML para aperfeiçoar funções tradicionais da TI. \n",
        "\n",
        "Em sua opinião, como o uso de IA pode ajudar a reduzir problemas comuns em uma operação de um data center? Responda em mais de dois parágrafos.\n",
        "\n",
        "```"
      ]
    },
    {
      "cell_type": "markdown",
      "metadata": {
        "id": "w-c2KaZhg_rs",
        "colab_type": "text"
      },
      "source": [
        "> Responda aqui"
      ]
    },
    {
      "cell_type": "markdown",
      "metadata": {
        "id": "4lcgGZPmfw0v",
        "colab_type": "text"
      },
      "source": [
        "```\n",
        "2) Cite 4 bibliotecas de Python para Machine Learning das quais são de seu conhecimento, e em qual projeto utilizou.\n",
        "``` "
      ]
    },
    {
      "cell_type": "markdown",
      "metadata": {
        "colab_type": "text",
        "id": "90tpaE_bjRC4"
      },
      "source": [
        "> Responda aqui"
      ]
    },
    {
      "cell_type": "markdown",
      "metadata": {
        "id": "SLMLfswifwxk",
        "colab_type": "text"
      },
      "source": [
        "\n",
        "\n",
        "```\n",
        "3) Qual a diferença entre aprendizado supervisionado e não supervisionado em ML? Responda usando suas próprias palavras\n",
        "```\n",
        "\n"
      ]
    },
    {
      "cell_type": "markdown",
      "metadata": {
        "colab_type": "text",
        "id": "ErWX9ClkjTZL"
      },
      "source": [
        "> Responda aqui"
      ]
    },
    {
      "cell_type": "markdown",
      "metadata": {
        "id": "EtLNWWYrfwtX",
        "colab_type": "text"
      },
      "source": [
        "\n",
        "\n",
        "```\n",
        "4) Qual seu algoritmo favorito de Machine Learning? Você poderia explica-lo em poucas linhas? \n",
        "```\n",
        "\n"
      ]
    },
    {
      "cell_type": "markdown",
      "metadata": {
        "colab_type": "text",
        "id": "FQxKAxoHjT8F"
      },
      "source": [
        "> Responda aqui"
      ]
    },
    {
      "cell_type": "markdown",
      "metadata": {
        "id": "9GFX5sMDfwlm",
        "colab_type": "text"
      },
      "source": [
        "\n",
        "\n",
        "```\n",
        "5) Qual a principal diferença entre MapReduce e Spark? Você já teve experiência em algum projeto com algum deles?\n",
        "\n",
        "```\n",
        "\n"
      ]
    },
    {
      "cell_type": "markdown",
      "metadata": {
        "colab_type": "text",
        "id": "ZyLalP_fjUc6"
      },
      "source": [
        "> Responda aqui"
      ]
    },
    {
      "cell_type": "markdown",
      "metadata": {
        "id": "ekDzv31HfwTN",
        "colab_type": "text"
      },
      "source": [
        "\n",
        "\n",
        "```\n",
        "6) Quais são as principais bibliotecas do Apache Spark? Você já teve experiência com alguma delas?\n",
        "```\n",
        "\n"
      ]
    },
    {
      "cell_type": "markdown",
      "metadata": {
        "colab_type": "text",
        "id": "BilgiglxjU3g"
      },
      "source": [
        "> Responda aqui"
      ]
    },
    {
      "cell_type": "markdown",
      "metadata": {
        "id": "cvhQ8420Pigl",
        "colab_type": "text"
      },
      "source": [
        "# Projeto Globoplay Produtos\n",
        "\n",
        "A Globo decidiu lançar um sistema de compras dentro de seu aplicativo de streaming Globoplay. Os usuários assinam o Globoplay e podém assistir diversos conteúdos de vídeos como filmes, séries, novelas e jornais. Enquanto o usuário assiste o conteúdo, ele pode acessar um menu no aplicativo ou no website que irá mostrar produtos relacionados ao conteúdo que está sendo assistido, exemplo: O personagem de uma novela usa uma roupa de uma marca determinada, o usuário poderá comprar essa mesma roupa da mesma marca.\n",
        "\n",
        "Vamos supor que esse sistema já esteja sendo usado em uma pequena quantidade de usuários há alguns anos e você foi contratado para analisar se a Globo deverá focar seus esforços em seu aplicativo móvel ou em seu site."
      ]
    },
    {
      "cell_type": "markdown",
      "metadata": {
        "id": "OcQctSbuPign",
        "colab_type": "text"
      },
      "source": [
        "## Imports"
      ]
    },
    {
      "cell_type": "code",
      "metadata": {
        "id": "3uv-jsvVPign",
        "colab_type": "code",
        "colab": {}
      },
      "source": [
        "import pandas as pd\n",
        "import numpy as np\n",
        "import matplotlib.pyplot as plt\n",
        "import seaborn as sns\n",
        "%matplotlib inline"
      ],
      "execution_count": null,
      "outputs": []
    },
    {
      "cell_type": "markdown",
      "metadata": {
        "id": "Btr063-UPigr",
        "colab_type": "text"
      },
      "source": [
        "## Obter dados\n",
        "\n",
        "Trabalharemos com o arquivo csv GloboplayUsers que possui informações fictícias dos cliente:\n",
        "\n",
        "* Time on App: Tempo médio gasto no aplicativo Globoplay em horas/semana.\n",
        "* Time on Website: Tempo médio gasto no site do Globoplay em horas/semana.\n",
        "* Lenght of Membership: Há quantos anos o cliente é membro do Globoplay.\n",
        "* Yearly Amount Spent: Quanto o usuário gastou em média durante um ano de teste da funcionalidade em reais.\n"
      ]
    },
    {
      "cell_type": "code",
      "metadata": {
        "id": "Ig7bOGzoPigs",
        "colab_type": "code",
        "colab": {}
      },
      "source": [
        "#importe aqui\n",
        "globoplayUsers = "
      ],
      "execution_count": null,
      "outputs": []
    },
    {
      "cell_type": "code",
      "metadata": {
        "id": "DhOLTan_Pigv",
        "colab_type": "code",
        "colab": {}
      },
      "source": [
        "globoplayUsers.head()"
      ],
      "execution_count": null,
      "outputs": []
    },
    {
      "cell_type": "code",
      "metadata": {
        "id": "pYCdBnq7Pigy",
        "colab_type": "code",
        "colab": {}
      },
      "source": [
        "globoplayUsers.describe()"
      ],
      "execution_count": null,
      "outputs": []
    },
    {
      "cell_type": "code",
      "metadata": {
        "id": "GMtEFSSJPig1",
        "colab_type": "code",
        "colab": {}
      },
      "source": [
        "globoplayUsers.info()"
      ],
      "execution_count": null,
      "outputs": []
    },
    {
      "cell_type": "markdown",
      "metadata": {
        "id": "UhECsMPtPig4",
        "colab_type": "text"
      },
      "source": [
        "## Análise de dados\n",
        "\n",
        "1) Através do seaborn, crie um jointplot para comparar o tempo gasto no Website e o Total Gasto por ano. A correlação faz sentido?"
      ]
    },
    {
      "cell_type": "code",
      "metadata": {
        "id": "Tfm5_8BAPig4",
        "colab_type": "code",
        "colab": {}
      },
      "source": [
        "sns.set_palette(\"GnBu_d\")\n",
        "sns.set_style('whitegrid')"
      ],
      "execution_count": null,
      "outputs": []
    },
    {
      "cell_type": "code",
      "metadata": {
        "id": "vaCFE3_SPig7",
        "colab_type": "code",
        "colab": {}
      },
      "source": [
        "#jointplot aqui"
      ],
      "execution_count": null,
      "outputs": []
    },
    {
      "cell_type": "markdown",
      "metadata": {
        "id": "vx28GvAnPig-",
        "colab_type": "text"
      },
      "source": [
        "2) Faça o mesmo, mas comparando com o tempo gasto no aplicativo"
      ]
    },
    {
      "cell_type": "code",
      "metadata": {
        "id": "ZpDxtLKVPig-",
        "colab_type": "code",
        "colab": {}
      },
      "source": [
        ""
      ],
      "execution_count": null,
      "outputs": []
    },
    {
      "cell_type": "markdown",
      "metadata": {
        "id": "fUDeawrbPihC",
        "colab_type": "text"
      },
      "source": [
        "3) Faça um pairplot com os dados dos usuários.  Baseado neste plot o que parece ser a característica mais correlacionada com o valor anual gasto? "
      ]
    },
    {
      "cell_type": "code",
      "metadata": {
        "id": "uVeL7S0dPihD",
        "colab_type": "code",
        "colab": {}
      },
      "source": [
        ""
      ],
      "execution_count": null,
      "outputs": []
    },
    {
      "cell_type": "code",
      "metadata": {
        "id": "xJmT8vQTPihG",
        "colab_type": "code",
        "colab": {}
      },
      "source": [
        ""
      ],
      "execution_count": null,
      "outputs": []
    },
    {
      "cell_type": "markdown",
      "metadata": {
        "id": "ohNPw4a3PihI",
        "colab_type": "text"
      },
      "source": [
        "## Treinando e testando os dados\n",
        "\n",
        "Agora que analisamos um pouco os nossos dados, vamos criar um modelo de Machine Learning usando Regressão Linear.\n",
        "\n",
        "4) Crie uma variável y com o Valor gasto anualmente pelo usuário do Globoplay e crie uma variável X que contenha as demais características numéricas restantes dos clientes"
      ]
    },
    {
      "cell_type": "code",
      "metadata": {
        "id": "JMBgNMV3PihJ",
        "colab_type": "code",
        "colab": {}
      },
      "source": [
        ""
      ],
      "execution_count": null,
      "outputs": []
    },
    {
      "cell_type": "code",
      "metadata": {
        "id": "Vn_NALItPihL",
        "colab_type": "code",
        "colab": {}
      },
      "source": [
        ""
      ],
      "execution_count": null,
      "outputs": []
    },
    {
      "cell_type": "markdown",
      "metadata": {
        "id": "3MDFg9T2PihN",
        "colab_type": "text"
      },
      "source": [
        "5) Use model_selection.train_test_split da biblioteca sklearn. para dividir os dados em conjuntos de treinamento e teste. Defina o tamanho do teste em 30% e random_state = 101."
      ]
    },
    {
      "cell_type": "code",
      "metadata": {
        "id": "H_PXxvIePihN",
        "colab_type": "code",
        "colab": {}
      },
      "source": [
        ""
      ],
      "execution_count": null,
      "outputs": []
    },
    {
      "cell_type": "code",
      "metadata": {
        "id": "yQy1cYebPihP",
        "colab_type": "code",
        "colab": {}
      },
      "source": [
        ""
      ],
      "execution_count": null,
      "outputs": []
    },
    {
      "cell_type": "markdown",
      "metadata": {
        "id": "8pZXabB2PihT",
        "colab_type": "text"
      },
      "source": [
        "# Treinando o modelo\n",
        "\n",
        "6) Agora vamos treinar nosso modelo! Importe a Regressão Linear da biblioteca sklearn."
      ]
    },
    {
      "cell_type": "code",
      "metadata": {
        "id": "2Igg1cusPihT",
        "colab_type": "code",
        "colab": {}
      },
      "source": [
        "from sklearn.linear_model import LinearRegression"
      ],
      "execution_count": null,
      "outputs": []
    },
    {
      "cell_type": "markdown",
      "metadata": {
        "id": "oyEALLcCPihW",
        "colab_type": "text"
      },
      "source": [
        "7) Crie uma instância lm de um modelo LinearRegression ()"
      ]
    },
    {
      "cell_type": "code",
      "metadata": {
        "id": "vwrEo7oSPihW",
        "colab_type": "code",
        "colab": {}
      },
      "source": [
        "lm = "
      ],
      "execution_count": null,
      "outputs": []
    },
    {
      "cell_type": "markdown",
      "metadata": {
        "id": "DE2Yf5FqPihZ",
        "colab_type": "text"
      },
      "source": [
        "8) Treine usando os dados de treinamento."
      ]
    },
    {
      "cell_type": "code",
      "metadata": {
        "id": "iALbf0zZPihZ",
        "colab_type": "code",
        "colab": {}
      },
      "source": [
        ""
      ],
      "execution_count": null,
      "outputs": []
    },
    {
      "cell_type": "markdown",
      "metadata": {
        "id": "InVPyWf2Pihc",
        "colab_type": "text"
      },
      "source": [
        "9) Print os coeficientes do modelo."
      ]
    },
    {
      "cell_type": "code",
      "metadata": {
        "id": "WvMbkhW2Pihc",
        "colab_type": "code",
        "colab": {}
      },
      "source": [
        ""
      ],
      "execution_count": null,
      "outputs": []
    },
    {
      "cell_type": "markdown",
      "metadata": {
        "id": "UlQAoM2SPihe",
        "colab_type": "text"
      },
      "source": [
        "## Previsão de dados de teste\n",
        "\n",
        "\n",
        "10) Use lm.predict () para prever o conjunto X_test dos dados."
      ]
    },
    {
      "cell_type": "code",
      "metadata": {
        "id": "tWF_Ib06Pihf",
        "colab_type": "code",
        "colab": {}
      },
      "source": [
        ""
      ],
      "execution_count": null,
      "outputs": []
    },
    {
      "cell_type": "markdown",
      "metadata": {
        "id": "brpC_lJ-Pihh",
        "colab_type": "text"
      },
      "source": [
        "11) Crie um diagrama de dispersão (scatterplot) dos valores reais de teste em relação aos valores preditos."
      ]
    },
    {
      "cell_type": "code",
      "metadata": {
        "id": "eCFcrt2ePihh",
        "colab_type": "code",
        "colab": {}
      },
      "source": [
        ""
      ],
      "execution_count": null,
      "outputs": []
    },
    {
      "cell_type": "markdown",
      "metadata": {
        "id": "JhyKLoyOPihj",
        "colab_type": "text"
      },
      "source": [
        "## Avaliando o Modelo\n",
        "\n",
        "Avalie o modelo usado  através das métricas MAE, MSE e RME."
      ]
    },
    {
      "cell_type": "code",
      "metadata": {
        "id": "HfGEDr2SPihj",
        "colab_type": "code",
        "colab": {}
      },
      "source": [
        "from sklearn import metrics"
      ],
      "execution_count": null,
      "outputs": []
    },
    {
      "cell_type": "code",
      "metadata": {
        "id": "Cpvd7VlRR0zz",
        "colab_type": "code",
        "colab": {}
      },
      "source": [
        ""
      ],
      "execution_count": null,
      "outputs": []
    },
    {
      "cell_type": "markdown",
      "metadata": {
        "id": "DlFy_NwQPihm",
        "colab_type": "text"
      },
      "source": [
        "## Conclusão\n",
        "Devemos nos concentrar nos aplicativos móveis ou acesso web? O tempo como membro é importante? Para isso crie o quadro abaixo"
      ]
    },
    {
      "cell_type": "code",
      "metadata": {
        "id": "yZCtjPciPihn",
        "colab_type": "code",
        "colab": {}
      },
      "source": [
        "coeffecients = pd.DataFrame(lm.coef_,X.columns)\n",
        "coeffecients.columns = ['Coeficiente']\n",
        "coeffecients"
      ],
      "execution_count": null,
      "outputs": []
    },
    {
      "cell_type": "markdown",
      "metadata": {
        "id": "fa-_w-1gPihp",
        "colab_type": "text"
      },
      "source": [
        "** Como você interpreta esses coeficientes? **"
      ]
    },
    {
      "cell_type": "markdown",
      "metadata": {
        "colab_type": "text",
        "id": "L3HqRKJdnr32"
      },
      "source": [
        "> Responda aqui"
      ]
    },
    {
      "cell_type": "markdown",
      "metadata": {
        "id": "l3i1QCwAPihq",
        "colab_type": "text"
      },
      "source": [
        "** Você acha que o Globoplay deve se concentrar mais em seu aplicativo móvel ou em seu site? **"
      ]
    },
    {
      "cell_type": "markdown",
      "metadata": {
        "colab_type": "text",
        "id": "wGrV5OK2nujd"
      },
      "source": [
        "> Responda aqui"
      ]
    },
    {
      "cell_type": "markdown",
      "metadata": {
        "id": "ARiB3grDnxur",
        "colab_type": "text"
      },
      "source": [
        "\n",
        "\n",
        "```\n",
        "Obrigado por ter chegado até aqui, iremos te dar um feedback o mais breve possível! \n",
        "```\n",
        "\n"
      ]
    }
  ]
}